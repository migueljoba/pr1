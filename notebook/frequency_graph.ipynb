{
 "cells": [
  {
   "cell_type": "code",
   "id": "974e474af32b5a5c",
   "metadata": {},
   "source": [
    "import utils\n",
    "import utils_plotly\n",
    "from rule import Rule"
   ],
   "outputs": [],
   "execution_count": null
  },
  {
   "cell_type": "code",
   "id": "fba1f1c24a36628b",
   "metadata": {},
   "source": [
    "rule = Rule()\n",
    "rule.b = 1.26\n",
    "rule.use_binary_rule()\n",
    "rule.use_binary_transition()\n",
    "\n",
    "total_steps = 200\n",
    "population_elements = [0, 1]\n",
    "individual_probability = [0.1, 0.9]\n",
    "size = (20, 20)\n",
    "\n",
    "initial_population = utils.random_population(\n",
    "    elements=population_elements,\n",
    "    probability=individual_probability,\n",
    "    size=size\n",
    ")"
   ],
   "outputs": [],
   "execution_count": null
  },
  {
   "cell_type": "code",
   "id": "c98b93abe22bb4e4",
   "metadata": {},
   "source": [
    "matrix_list = utils.run(initial_population, rule, total_steps)\n",
    "plot_data = utils.resume_frequency_data(matrix_list)\n",
    "plot_title = f\"b: {rule.b}\"\n",
    "plot = utils_plotly.plot_frequency(data=plot_data, title=plot_title)\n",
    "plot.show()"
   ],
   "outputs": [],
   "execution_count": null
  }
 ],
 "metadata": {
  "kernelspec": {
   "display_name": "Python 3 (ipykernel)",
   "language": "python",
   "name": "python3"
  },
  "language_info": {
   "codemirror_mode": {
    "name": "ipython",
    "version": 3
   },
   "file_extension": ".py",
   "mimetype": "text/x-python",
   "name": "python",
   "nbconvert_exporter": "python",
   "pygments_lexer": "ipython3",
   "version": "3.11.7"
  }
 },
 "nbformat": 4,
 "nbformat_minor": 5
}
